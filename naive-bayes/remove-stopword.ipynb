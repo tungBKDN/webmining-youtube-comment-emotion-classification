{
 "cells": [
  {
   "cell_type": "code",
   "execution_count": 8,
   "id": "0d5e86a1",
   "metadata": {},
   "outputs": [],
   "source": [
    "import pandas as pd"
   ]
  },
  {
   "cell_type": "code",
   "execution_count": 9,
   "id": "069aee00",
   "metadata": {},
   "outputs": [],
   "source": [
    "def load_stop_words(file_path):\n",
    "    \"\"\"\n",
    "    Load stop words from a file and return them as a set.\n",
    "\n",
    "    :param file_path: Path to the stop words file.\n",
    "    :return: A set of stop words.\n",
    "    \"\"\"\n",
    "    try:\n",
    "        with open(file_path, 'r', encoding='utf-8') as file:\n",
    "            stop_words = set(file.read().splitlines())\n",
    "        return stop_words\n",
    "    except Exception as e:\n",
    "        print(f\"Error loading stop words: {e}\")\n",
    "        return set()"
   ]
  },
  {
   "cell_type": "code",
   "execution_count": 10,
   "id": "e668ef7b",
   "metadata": {},
   "outputs": [
    {
     "name": "stdout",
     "output_type": "stream",
     "text": [
      "Loading stop words...\n",
      "Loaded 1909 stop words.\n"
     ]
    }
   ],
   "source": [
    "print(\"Loading stop words...\")\n",
    "stop_words = load_stop_words('../data/vietnamese-stopwords.txt')\n",
    "if not stop_words:\n",
    "    print(\"No stop words loaded. Please check the file path and content.\")\n",
    "print(f\"Loaded {len(stop_words)} stop words.\")"
   ]
  },
  {
   "cell_type": "code",
   "execution_count": 11,
   "id": "bb96d979",
   "metadata": {},
   "outputs": [],
   "source": [
    "import re\n",
    "\n",
    "def remove_stopwords(text, stop_words):\n",
    "    \"\"\"\n",
    "    Remove stop words from a given text, prioritizing longer stop words first.\n",
    "\n",
    "    :param text: The input text from which to remove stop words.\n",
    "    :param stop_words: A set or list of stop words to remove.\n",
    "    :return: The text with stop words removed.\n",
    "    \"\"\"\n",
    "    if not isinstance(text, str):\n",
    "        return text\n",
    "\n",
    "    # Sort stopwords by length descending\n",
    "    sorted_stops = sorted(stop_words, key=lambda w: -len(w))\n",
    "\n",
    "    # Build regex pattern (whole words, word boundaries)\n",
    "    pattern = r'\\b(?:' + '|'.join(re.escape(w) for w in sorted_stops) + r')\\b'\n",
    "\n",
    "    # Replace matched stopwords with empty string\n",
    "    cleaned = re.sub(pattern, '', text)\n",
    "\n",
    "    # Remove extra whitespace\n",
    "    cleaned = re.sub(r'\\s+', ' ', cleaned).strip()\n",
    "\n",
    "    # If the cleaned text is empty, return the original text\n",
    "    return cleaned if cleaned else text\n"
   ]
  },
  {
   "cell_type": "code",
   "execution_count": 12,
   "id": "342657f3",
   "metadata": {},
   "outputs": [
    {
     "name": "stdout",
     "output_type": "stream",
     "text": [
      "Original text: đây là một ví dụ về việc loại bỏ các từ dừng trong văn bản bước khỏi đèo hải vân bên cạnh đó là bán đảo sơn trà\n",
      "Cleaned text: ví dụ dừng văn bản đèo hải vân đảo sơn trà\n"
     ]
    }
   ],
   "source": [
    "# Remove stop words from a sample text\n",
    "sample_text = \"đây là một ví dụ về việc loại bỏ các từ dừng trong văn bản bước khỏi đèo hải vân bên cạnh đó là bán đảo sơn trà\"\n",
    "cleaned_text = remove_stopwords(sample_text, stop_words)\n",
    "print(f\"Original text: {sample_text}\")\n",
    "print(f\"Cleaned text: {cleaned_text}\")"
   ]
  },
  {
   "cell_type": "code",
   "execution_count": 13,
   "id": "24fd9705",
   "metadata": {},
   "outputs": [
    {
     "name": "stderr",
     "output_type": "stream",
     "text": [
      "100%|██████████| 800/800 [00:01<00:00, 570.74it/s]\n",
      "100%|██████████| 5199/5199 [00:09<00:00, 546.00it/s]\n"
     ]
    }
   ],
   "source": [
    "from tqdm import tqdm\n",
    "\n",
    "# Apply the function to a DataFrame column of non_sw with tqdm progress bar\n",
    "df = pd.read_csv('../data/naive-bayes-dataset/test.csv')\n",
    "tqdm.pandas()\n",
    "df['nonsw'] = df['comment'].progress_apply(lambda x: remove_stopwords(x, stop_words) if isinstance(x, str) else x)\n",
    "# Save the cleaned DataFrame to adf new CSV file\n",
    "df.to_csv('../data/naive-bayes-dataset/test-nonsw.csv', index=False)\n",
    "\n",
    "# Apply the function to a DataFrame column of non_sw with tqdm progress bar\n",
    "df = pd.read_csv('../data/naive-bayes-dataset/train.csv')\n",
    "tqdm.pandas()\n",
    "df['nonsw'] = df['comment'].progress_apply(lambda x: remove_stopwords(x, stop_words) if isinstance(x, str) else x)\n",
    "# Save the cleaned DataFrame to adf new CSV file\n",
    "df.to_csv('../data/naive-bayes-dataset/train-nonsw.csv', index=False)"
   ]
  },
  {
   "cell_type": "code",
   "execution_count": 14,
   "id": "39786e44",
   "metadata": {},
   "outputs": [
    {
     "name": "stdout",
     "output_type": "stream",
     "text": [
      "Number of empty nonsw comments: 0\n",
      "Empty nonsw comments row indexes:\n",
      "[]\n",
      "Number of empty nonsw comments: 0\n",
      "Empty nonsw comments row indexes:\n",
      "[]\n"
     ]
    }
   ],
   "source": [
    "nonswdf = pd.read_csv('../data/naive-bayes-dataset/test-nonsw.csv')\n",
    "# Number of empty nonsw comments\n",
    "empty_nonsw_count = nonswdf['nonsw'].isnull().sum()\n",
    "print(f\"Number of empty nonsw comments: {empty_nonsw_count}\")\n",
    "# Print those numbers\n",
    "print(\"Empty nonsw comments row indexes:\")\n",
    "print(nonswdf[nonswdf['nonsw'].isnull()].index.tolist())\n",
    "\n",
    "nonswdf = pd.read_csv('../data/naive-bayes-dataset/train-nonsw.csv')\n",
    "# Number of empty nonsw comments\n",
    "empty_nonsw_count = nonswdf['nonsw'].isnull().sum()\n",
    "print(f\"Number of empty nonsw comments: {empty_nonsw_count}\")\n",
    "# Print those numbers\n",
    "print(\"Empty nonsw comments row indexes:\")\n",
    "print(nonswdf[nonswdf['nonsw'].isnull()].index.tolist())"
   ]
  }
 ],
 "metadata": {
  "kernelspec": {
   "display_name": "Python 3",
   "language": "python",
   "name": "python3"
  },
  "language_info": {
   "codemirror_mode": {
    "name": "ipython",
    "version": 3
   },
   "file_extension": ".py",
   "mimetype": "text/x-python",
   "name": "python",
   "nbconvert_exporter": "python",
   "pygments_lexer": "ipython3",
   "version": "3.11.8"
  }
 },
 "nbformat": 4,
 "nbformat_minor": 5
}
