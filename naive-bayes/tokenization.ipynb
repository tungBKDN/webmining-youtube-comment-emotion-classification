{
 "cells": [
  {
   "cell_type": "code",
   "execution_count": 7,
   "id": "71aa6212",
   "metadata": {},
   "outputs": [],
   "source": [
    "import pandas as pd\n",
    "import nltk\n",
    "from nltk.tokenize import word_tokenize\n",
    "import underthesea"
   ]
  },
  {
   "cell_type": "code",
   "execution_count": 8,
   "id": "08241bcf",
   "metadata": {},
   "outputs": [
    {
     "name": "stdout",
     "output_type": "stream",
     "text": [
      "Tokens using underthesea: tôi yêu đại_học bách_khoa hà_nội\n"
     ]
    }
   ],
   "source": [
    "# Test\n",
    "sample = \"tôi yêu đại học bách khoa hà nội\"\n",
    "# Tokenize the sample text using underthesea\n",
    "tokens = underthesea.word_tokenize(sample, format=\"text\")\n",
    "# Print the tokens\n",
    "print(\"Tokens using underthesea:\", tokens)\n"
   ]
  },
  {
   "cell_type": "code",
   "execution_count": 9,
   "id": "ef6b27b2",
   "metadata": {},
   "outputs": [],
   "source": [
    "test = pd.read_csv('../data/naive-bayes-dataset/test-nonsw.csv')\n",
    "train = pd.read_csv('../data/naive-bayes-dataset/train-nonsw.csv')"
   ]
  },
  {
   "cell_type": "code",
   "execution_count": 10,
   "id": "d7c1f06c",
   "metadata": {},
   "outputs": [
    {
     "name": "stderr",
     "output_type": "stream",
     "text": [
      "100%|██████████| 5199/5199 [00:02<00:00, 2359.74it/s]\n",
      "100%|██████████| 800/800 [00:00<00:00, 2111.08it/s]\n"
     ]
    }
   ],
   "source": [
    "from tqdm import tqdm\n",
    "\n",
    "tqdm.pandas()\n",
    "train['tokens'] = train['nonsw'].progress_apply(lambda x: underthesea.word_tokenize(str(x), format=\"text\"))\n",
    "test['tokens'] = test['nonsw'].progress_apply(lambda x: underthesea.word_tokenize(str(x), format=\"text\"))\n"
   ]
  },
  {
   "cell_type": "code",
   "execution_count": 11,
   "id": "78c53e7f",
   "metadata": {},
   "outputs": [],
   "source": [
    "# Save the train and test sets\n",
    "train.to_csv('./processing-data/train_with_tokens.csv', index=False)\n",
    "test.to_csv('./processing-data/test_with_tokens.csv', index=False)"
   ]
  },
  {
   "cell_type": "code",
   "execution_count": 12,
   "id": "0c9a9dcd",
   "metadata": {},
   "outputs": [
    {
     "data": {
      "text/plain": [
       "'tui fan mc nhưng tới giờ vẫn chưa quên được cảm_giác buồn_bã và tiếc_nuối khi đội bị real loại ở vòng playoff chị luôn khắc_nghiệt tui biết điều đó nhưng vẫn thấy khá bất_ngờ khi nhìn đội bóng từng khiến cả châu âu phải nể phục như real lại thua ở lượt đi rồi còn dính vào chuyện nội_bộ rối_ren vừa_rồi dù từng bị real đánh_bại tui vẫn thật lòng tôn_trọng họ vì những lần họ trở về từ cõi chết vì cái cách họ không bỏ_cuộc và vì cái chất chị ăn sâu vô từng pha bóng của họ real không hoàn_hảo nhưng họ luôn cho thấy lý_do vì_sao họ là một phần lịch_sử của giải_đấu này còn arsenal thật_sự khiến tui nể một tập_thể trẻ mà đầy bản_lĩnh họ đang đi lên bằng chính nỗ_lực và niềm tin không còn là hình_ảnh non_nớt ngày nào arsenal bây_giờ đá chững_chạc gọn_gàng và rất đáng xem tui quý cái cách họ chiến_đấu không ồn_ào nhưng rõ_ràng và đầy quyết_tâm tui mong hai đội sẽ bước ra sân bằng tất_cả những gì tốt_đẹp nhất mà bóng_đá có_thể mang lại đá để giành vé đi tiếp nhưng cũng đá để cho người hâm_mộ được tin rằng bóng_đá vẫn còn nguyên giá_trị vẫn chạm tới cảm_xúc của rất nhiều người và cũng xin gửi lời cảm_ơn chân_thành đến arsenal ngoài chuyện chuyên_môn việc họ góp_phần mang về suất chị cho epl mùa tới thật_sự ý_nghĩa đó không chỉ là niềm tự_hào cho giải_đấu mà còn là phần_thưởng cho sự_cố_gắng âm_thầm nhưng bền_bỉ của một đội bóng đang dần lớn lên từng ngày chúc arsenal giữ vững tinh_thần đó vượt qua thử_thách phía trước và viết tiếp một hành_trình xứng_đáng tại chị không chỉ cho chính họ mà còn cho tất_cả những người yêu_mến họ'"
      ]
     },
     "execution_count": 12,
     "metadata": {},
     "output_type": "execute_result"
    }
   ],
   "source": [
    "from pyvi import ViTokenizer, ViPosTagger\n",
    "\n",
    "string = u\"tui fan mc nhưng tới giờ vẫn chưa quên được cảm giác buồn bã và tiếc nuối khi đội bị real loại ở vòng playoff chị luôn khắc nghiệt tui biết điều đó nhưng vẫn thấy khá bất ngờ khi nhìn đội bóng từng khiến cả châu âu phải nể phục như real lại thua ở lượt đi rồi còn dính vào chuyện nội bộ rối ren vừa rồi dù từng bị real đánh bại tui vẫn thật lòng tôn trọng họ vì những lần họ trở về từ cõi chết vì cái cách họ không bỏ cuộc và vì cái chất chị ăn sâu vô từng pha bóng của họ real không hoàn hảo nhưng họ luôn cho thấy lý do vì sao họ là một phần lịch sử của giải đấu này còn arsenal thật sự khiến tui nể một tập thể trẻ mà đầy bản lĩnh họ đang đi lên bằng chính nỗ lực và niềm tin không còn là hình ảnh non nớt ngày nào arsenal bây giờ đá chững chạc gọn gàng và rất đáng xem tui quý cái cách họ chiến đấu không ồn ào nhưng rõ ràng và đầy quyết tâm tui mong hai đội sẽ bước ra sân bằng tất cả những gì tốt đẹp nhất mà bóng đá có thể mang lại đá để giành vé đi tiếp nhưng cũng đá để cho người hâm mộ được tin rằng bóng đá vẫn còn nguyên giá trị vẫn chạm tới cảm xúc của rất nhiều người và cũng xin gửi lời cảm ơn chân thành đến arsenal ngoài chuyện chuyên môn việc họ góp phần mang về suất chị cho epl mùa tới thật sự ý nghĩa đó không chỉ là niềm tự hào cho giải đấu mà còn là phần thưởng cho sự cố gắng âm thầm nhưng bền bỉ của một đội bóng đang dần lớn lên từng ngày chúc arsenal giữ vững tinh thần đó vượt qua thử thách phía trước và viết tiếp một hành trình xứng đáng tại chị không chỉ cho chính họ mà còn cho tất cả những người yêu mến họ\"\n",
    "\n",
    "ViTokenizer.tokenize(string)\n",
    "\n",
    "# Normalize the accent\n",
    "\n",
    "\n",
    "\n",
    "# Remove stopwords\n",
    "# import nltk\n",
    "# from nltk.corpus import stopwords\n",
    "# nltk.download('stopwords')\n",
    "# stop_words = set(stopwords.words('vietnamese'))\n",
    "\n",
    "# removed_string = ' '.join([word for word in word_tokenize(string) if word not in stop_words])\n",
    "# print(\"String after removing stopwords:\", removed_string)"
   ]
  }
 ],
 "metadata": {
  "kernelspec": {
   "display_name": "Python 3",
   "language": "python",
   "name": "python3"
  },
  "language_info": {
   "codemirror_mode": {
    "name": "ipython",
    "version": 3
   },
   "file_extension": ".py",
   "mimetype": "text/x-python",
   "name": "python",
   "nbconvert_exporter": "python",
   "pygments_lexer": "ipython3",
   "version": "3.11.8"
  }
 },
 "nbformat": 4,
 "nbformat_minor": 5
}
