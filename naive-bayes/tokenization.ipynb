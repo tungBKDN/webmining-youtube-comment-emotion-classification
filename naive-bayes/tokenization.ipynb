{
 "cells": [
  {
   "cell_type": "code",
   "execution_count": 4,
   "id": "71aa6212",
   "metadata": {},
   "outputs": [
    {
     "name": "stderr",
     "output_type": "stream",
     "text": [
      "c:\\Users\\tungq\\AppData\\Local\\Programs\\Python\\Python311\\Lib\\site-packages\\tqdm\\auto.py:21: TqdmWarning: IProgress not found. Please update jupyter and ipywidgets. See https://ipywidgets.readthedocs.io/en/stable/user_install.html\n",
      "  from .autonotebook import tqdm as notebook_tqdm\n"
     ]
    }
   ],
   "source": [
    "import pandas as pd\n",
    "import nltk\n",
    "from nltk.tokenize import word_tokenize\n",
    "import underthesea"
   ]
  },
  {
   "cell_type": "code",
   "execution_count": 5,
   "id": "08241bcf",
   "metadata": {},
   "outputs": [
    {
     "name": "stdout",
     "output_type": "stream",
     "text": [
      "Tokens using underthesea: tôi yêu đại_học bách_khoa hà_nội\n"
     ]
    }
   ],
   "source": [
    "# Test\n",
    "sample = \"tôi yêu đại học bách khoa hà nội\"\n",
    "# Tokenize the sample text using underthesea\n",
    "tokens = underthesea.word_tokenize(sample, format=\"text\")\n",
    "# Print the tokens\n",
    "print(\"Tokens using underthesea:\", tokens)\n"
   ]
  },
  {
   "cell_type": "code",
   "execution_count": 10,
   "id": "ef6b27b2",
   "metadata": {},
   "outputs": [],
   "source": [
    "test = pd.read_csv('../data/naive-bayes-dataset/test.csv')\n",
    "train = pd.read_csv('../data/naive-bayes-dataset/train.csv')"
   ]
  },
  {
   "cell_type": "code",
   "execution_count": 12,
   "id": "d7c1f06c",
   "metadata": {},
   "outputs": [],
   "source": [
    "# Create a new column 'tokens' in the DataFrame\n",
    "train['tokens'] = train['comment'].apply(lambda x: underthesea.word_tokenize(str(x), format=\"text\"))\n",
    "test['tokens'] = test['comment'].apply(lambda x: underthesea.word_tokenize(str(x), format=\"text\"))\n"
   ]
  },
  {
   "cell_type": "code",
   "execution_count": 14,
   "id": "78c53e7f",
   "metadata": {},
   "outputs": [],
   "source": [
    "# Save the train and test sets\n",
    "train.to_csv('./processing-data/train_with_tokens.csv', index=False)\n",
    "test.to_csv('./processing-data/test_with_tokens.csv', index=False)"
   ]
  }
 ],
 "metadata": {
  "kernelspec": {
   "display_name": "Python 3",
   "language": "python",
   "name": "python3"
  },
  "language_info": {
   "codemirror_mode": {
    "name": "ipython",
    "version": 3
   },
   "file_extension": ".py",
   "mimetype": "text/x-python",
   "name": "python",
   "nbconvert_exporter": "python",
   "pygments_lexer": "ipython3",
   "version": "3.11.8"
  }
 },
 "nbformat": 4,
 "nbformat_minor": 5
}
