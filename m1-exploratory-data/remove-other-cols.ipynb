{
 "cells": [
  {
   "cell_type": "code",
   "execution_count": 43,
   "id": "ed3454ad",
   "metadata": {},
   "outputs": [],
   "source": [
    "import pandas as pd"
   ]
  },
  {
   "cell_type": "code",
   "execution_count": 44,
   "id": "d89ce8f0",
   "metadata": {},
   "outputs": [
    {
     "data": {
      "application/vnd.microsoft.datawrangler.viewer.v0+json": {
       "columns": [
        {
         "name": "index",
         "rawType": "int64",
         "type": "integer"
        },
        {
         "name": "label",
         "rawType": "float64",
         "type": "float"
        },
        {
         "name": "comment",
         "rawType": "object",
         "type": "string"
        }
       ],
       "ref": "1062f15c-3f61-46bb-90e5-930a6ef8096e",
       "rows": [
        [
         "0",
         "2.0",
         "ai đó gì viu dhhp cho em vớiii"
        ],
        [
         "1",
         "0.0",
         "tính cả mình thì khóa mình có người trong bộ tài chính"
        ],
        [
         "2",
         "6.0",
         "ê em là không lo xa đang tìm trường đhoc em xem video anh em bcuoi v"
        ],
        [
         "3",
         "6.0",
         "anh làm p cho không được không"
        ],
        [
         "4",
         "1.0",
         "ftu giỏi lắm đó"
        ]
       ],
       "shape": {
        "columns": 2,
        "rows": 5
       }
      },
      "text/html": [
       "<div>\n",
       "<style scoped>\n",
       "    .dataframe tbody tr th:only-of-type {\n",
       "        vertical-align: middle;\n",
       "    }\n",
       "\n",
       "    .dataframe tbody tr th {\n",
       "        vertical-align: top;\n",
       "    }\n",
       "\n",
       "    .dataframe thead th {\n",
       "        text-align: right;\n",
       "    }\n",
       "</style>\n",
       "<table border=\"1\" class=\"dataframe\">\n",
       "  <thead>\n",
       "    <tr style=\"text-align: right;\">\n",
       "      <th></th>\n",
       "      <th>label</th>\n",
       "      <th>comment</th>\n",
       "    </tr>\n",
       "  </thead>\n",
       "  <tbody>\n",
       "    <tr>\n",
       "      <th>0</th>\n",
       "      <td>2.0</td>\n",
       "      <td>ai đó gì viu dhhp cho em vớiii</td>\n",
       "    </tr>\n",
       "    <tr>\n",
       "      <th>1</th>\n",
       "      <td>0.0</td>\n",
       "      <td>tính cả mình thì khóa mình có người trong bộ t...</td>\n",
       "    </tr>\n",
       "    <tr>\n",
       "      <th>2</th>\n",
       "      <td>6.0</td>\n",
       "      <td>ê em là không lo xa đang tìm trường đhoc em xe...</td>\n",
       "    </tr>\n",
       "    <tr>\n",
       "      <th>3</th>\n",
       "      <td>6.0</td>\n",
       "      <td>anh làm p cho không được không</td>\n",
       "    </tr>\n",
       "    <tr>\n",
       "      <th>4</th>\n",
       "      <td>1.0</td>\n",
       "      <td>ftu giỏi lắm đó</td>\n",
       "    </tr>\n",
       "  </tbody>\n",
       "</table>\n",
       "</div>"
      ],
      "text/plain": [
       "   label                                            comment\n",
       "0    2.0                     ai đó gì viu dhhp cho em vớiii\n",
       "1    0.0  tính cả mình thì khóa mình có người trong bộ t...\n",
       "2    6.0  ê em là không lo xa đang tìm trường đhoc em xe...\n",
       "3    6.0                     anh làm p cho không được không\n",
       "4    1.0                                    ftu giỏi lắm đó"
      ]
     },
     "execution_count": 44,
     "metadata": {},
     "output_type": "execute_result"
    }
   ],
   "source": [
    "df = pd.read_csv('../data/labeled-data.csv')\n",
    "df.head()"
   ]
  },
  {
   "cell_type": "code",
   "execution_count": 45,
   "id": "b6e36583",
   "metadata": {},
   "outputs": [],
   "source": [
    "# # Remove all rows, just keep label and comment row\n",
    "# df = df[['label', 'comment']]\n",
    "# Remove diplicate comment\n",
    "df = df.drop_duplicates(subset=['comment'])"
   ]
  },
  {
   "cell_type": "code",
   "execution_count": 46,
   "id": "d96a11e2",
   "metadata": {},
   "outputs": [
    {
     "name": "stdout",
     "output_type": "stream",
     "text": [
      "label\n",
      "0.0    1261\n",
      "1.0    1452\n",
      "2.0    1010\n",
      "3.0    1030\n",
      "4.0     530\n",
      "5.0     502\n",
      "6.0     501\n",
      "7.0     600\n",
      "dtype: int64\n"
     ]
    }
   ],
   "source": [
    "# Check the data by label\n",
    "print(df.groupby('label').size())"
   ]
  },
  {
   "cell_type": "code",
   "execution_count": 47,
   "id": "ddd9023f",
   "metadata": {},
   "outputs": [],
   "source": [
    "# Export to csv\n",
    "df.to_csv('../data/labeled-data.csv', index=False)"
   ]
  }
 ],
 "metadata": {
  "kernelspec": {
   "display_name": "Python 3",
   "language": "python",
   "name": "python3"
  },
  "language_info": {
   "codemirror_mode": {
    "name": "ipython",
    "version": 3
   },
   "file_extension": ".py",
   "mimetype": "text/x-python",
   "name": "python",
   "nbconvert_exporter": "python",
   "pygments_lexer": "ipython3",
   "version": "3.11.8"
  }
 },
 "nbformat": 4,
 "nbformat_minor": 5
}
