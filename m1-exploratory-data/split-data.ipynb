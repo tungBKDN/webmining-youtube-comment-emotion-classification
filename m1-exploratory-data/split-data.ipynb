{
 "cells": [
  {
   "cell_type": "code",
   "execution_count": 1,
   "id": "2327b4a3",
   "metadata": {},
   "outputs": [],
   "source": [
    "import pandas as pd"
   ]
  },
  {
   "cell_type": "code",
   "execution_count": 3,
   "id": "1b10c6ae",
   "metadata": {},
   "outputs": [],
   "source": [
    "df = pd.read_csv('../data/labeled-data.csv')"
   ]
  },
  {
   "cell_type": "code",
   "execution_count": 4,
   "id": "b4f67c47",
   "metadata": {},
   "outputs": [
    {
     "data": {
      "application/vnd.microsoft.datawrangler.viewer.v0+json": {
       "columns": [
        {
         "name": "index",
         "rawType": "int64",
         "type": "integer"
        },
        {
         "name": "label",
         "rawType": "float64",
         "type": "float"
        },
        {
         "name": "comment",
         "rawType": "object",
         "type": "string"
        }
       ],
       "ref": "16700891-902c-4eda-99ca-d8039f00018e",
       "rows": [
        [
         "0",
         "2.0",
         "ai đó gì viu dhhp cho em vớiii"
        ],
        [
         "1",
         "0.0",
         "tính cả mình thì khóa mình có người trong bộ tài chính"
        ],
        [
         "2",
         "6.0",
         "ê em là không lo xa đang tìm trường đhoc em xem video anh em bcuoi v"
        ],
        [
         "3",
         "6.0",
         "anh làm p cho không được không"
        ],
        [
         "4",
         "1.0",
         "ftu giỏi lắm đó"
        ]
       ],
       "shape": {
        "columns": 2,
        "rows": 5
       }
      },
      "text/html": [
       "<div>\n",
       "<style scoped>\n",
       "    .dataframe tbody tr th:only-of-type {\n",
       "        vertical-align: middle;\n",
       "    }\n",
       "\n",
       "    .dataframe tbody tr th {\n",
       "        vertical-align: top;\n",
       "    }\n",
       "\n",
       "    .dataframe thead th {\n",
       "        text-align: right;\n",
       "    }\n",
       "</style>\n",
       "<table border=\"1\" class=\"dataframe\">\n",
       "  <thead>\n",
       "    <tr style=\"text-align: right;\">\n",
       "      <th></th>\n",
       "      <th>label</th>\n",
       "      <th>comment</th>\n",
       "    </tr>\n",
       "  </thead>\n",
       "  <tbody>\n",
       "    <tr>\n",
       "      <th>0</th>\n",
       "      <td>2.0</td>\n",
       "      <td>ai đó gì viu dhhp cho em vớiii</td>\n",
       "    </tr>\n",
       "    <tr>\n",
       "      <th>1</th>\n",
       "      <td>0.0</td>\n",
       "      <td>tính cả mình thì khóa mình có người trong bộ t...</td>\n",
       "    </tr>\n",
       "    <tr>\n",
       "      <th>2</th>\n",
       "      <td>6.0</td>\n",
       "      <td>ê em là không lo xa đang tìm trường đhoc em xe...</td>\n",
       "    </tr>\n",
       "    <tr>\n",
       "      <th>3</th>\n",
       "      <td>6.0</td>\n",
       "      <td>anh làm p cho không được không</td>\n",
       "    </tr>\n",
       "    <tr>\n",
       "      <th>4</th>\n",
       "      <td>1.0</td>\n",
       "      <td>ftu giỏi lắm đó</td>\n",
       "    </tr>\n",
       "  </tbody>\n",
       "</table>\n",
       "</div>"
      ],
      "text/plain": [
       "   label                                            comment\n",
       "0    2.0                     ai đó gì viu dhhp cho em vớiii\n",
       "1    0.0  tính cả mình thì khóa mình có người trong bộ t...\n",
       "2    6.0  ê em là không lo xa đang tìm trường đhoc em xe...\n",
       "3    6.0                     anh làm p cho không được không\n",
       "4    1.0                                    ftu giỏi lắm đó"
      ]
     },
     "execution_count": 4,
     "metadata": {},
     "output_type": "execute_result"
    }
   ],
   "source": [
    "df.head()"
   ]
  },
  {
   "cell_type": "code",
   "execution_count": 5,
   "id": "e3613fb0",
   "metadata": {},
   "outputs": [
    {
     "name": "stdout",
     "output_type": "stream",
     "text": [
      "label\n",
      "1.0    1452\n",
      "0.0    1261\n",
      "3.0    1030\n",
      "2.0    1010\n",
      "7.0     600\n",
      "4.0     529\n",
      "5.0     502\n",
      "6.0     501\n",
      "Name: count, dtype: int64\n"
     ]
    }
   ],
   "source": [
    "# Number of rows by label\n",
    "print(df['label'].value_counts())"
   ]
  },
  {
   "cell_type": "code",
   "execution_count": 6,
   "id": "833950ec",
   "metadata": {},
   "outputs": [],
   "source": [
    "train = [900, 900, 900, 900, 400, 400, 400, 400]\n",
    "test = [100, 100, 100, 100, 100, 100, 100, 100]"
   ]
  },
  {
   "cell_type": "code",
   "execution_count": 9,
   "id": "e4433228",
   "metadata": {},
   "outputs": [],
   "source": [
    "# For each label, create a train and test set based on the counts above\n",
    "def split_data(df, train_counts, test_counts):\n",
    "    train_dfs = []\n",
    "    test_dfs = []\n",
    "\n",
    "    for label in df['label'].unique():\n",
    "        label_df = df[df['label'] == label]\n",
    "        train_size = train_counts[int(label)]\n",
    "        test_size = test_counts[int(label)]\n",
    "\n",
    "        train_df = label_df.sample(n=train_size, random_state=42)\n",
    "        test_df = label_df.drop(train_df.index).sample(n=test_size, random_state=42)\n",
    "\n",
    "        train_dfs.append(train_df)\n",
    "        test_dfs.append(test_df)\n",
    "\n",
    "    return pd.concat(train_dfs), pd.concat(test_dfs)\n",
    "\n",
    "train_df, test_df = split_data(df, train, test)"
   ]
  },
  {
   "cell_type": "code",
   "execution_count": 11,
   "id": "8214134e",
   "metadata": {},
   "outputs": [
    {
     "name": "stdout",
     "output_type": "stream",
     "text": [
      "label\n",
      "2.0    900\n",
      "0.0    900\n",
      "1.0    900\n",
      "3.0    900\n",
      "6.0    400\n",
      "4.0    400\n",
      "7.0    400\n",
      "5.0    400\n",
      "Name: count, dtype: int64\n",
      "label\n",
      "2.0    100\n",
      "0.0    100\n",
      "6.0    100\n",
      "1.0    100\n",
      "4.0    100\n",
      "3.0    100\n",
      "7.0    100\n",
      "5.0    100\n",
      "Name: count, dtype: int64\n"
     ]
    }
   ],
   "source": [
    "# Check number of rows in train and test sets by label\n",
    "print(train_df['label'].value_counts())\n",
    "print(test_df['label'].value_counts())"
   ]
  },
  {
   "cell_type": "code",
   "execution_count": 12,
   "id": "daac6bee",
   "metadata": {},
   "outputs": [],
   "source": [
    "# Save the train and test sets\n",
    "train_df.to_csv('../data/naive-bayes-dataset/train.csv', index=False)\n",
    "test_df.to_csv('../data/naive-bayes-dataset/test.csv', index=False)"
   ]
  },
  {
   "cell_type": "markdown",
   "id": "c1842cd4",
   "metadata": {},
   "source": [
    "# "
   ]
  }
 ],
 "metadata": {
  "kernelspec": {
   "display_name": "Python 3",
   "language": "python",
   "name": "python3"
  },
  "language_info": {
   "codemirror_mode": {
    "name": "ipython",
    "version": 3
   },
   "file_extension": ".py",
   "mimetype": "text/x-python",
   "name": "python",
   "nbconvert_exporter": "python",
   "pygments_lexer": "ipython3",
   "version": "3.11.8"
  }
 },
 "nbformat": 4,
 "nbformat_minor": 5
}
