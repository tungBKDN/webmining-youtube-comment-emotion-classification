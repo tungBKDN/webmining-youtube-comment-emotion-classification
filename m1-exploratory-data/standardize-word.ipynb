{
 "cells": [
  {
   "cell_type": "code",
   "execution_count": 1,
   "id": "a58e5bff",
   "metadata": {},
   "outputs": [
    {
     "ename": "ModuleNotFoundError",
     "evalue": "No module named 'vnaccent'",
     "output_type": "error",
     "traceback": [
      "\u001b[1;31m---------------------------------------------------------------------------\u001b[0m",
      "\u001b[1;31mModuleNotFoundError\u001b[0m                       Traceback (most recent call last)",
      "Cell \u001b[1;32mIn[1], line 1\u001b[0m\n\u001b[1;32m----> 1\u001b[0m \u001b[38;5;28;01mfrom\u001b[39;00m \u001b[38;5;21;01mvnaccent\u001b[39;00m \u001b[38;5;28;01mimport\u001b[39;00m standardize_accent\n\u001b[0;32m      3\u001b[0m text \u001b[38;5;241m=\u001b[39m \u001b[38;5;124m\"\u001b[39m\u001b[38;5;124mHoà bình là điều quý giá.\u001b[39m\u001b[38;5;124m\"\u001b[39m\n\u001b[0;32m      4\u001b[0m standardized_text \u001b[38;5;241m=\u001b[39m standardize_accent(text)\n",
      "\u001b[1;31mModuleNotFoundError\u001b[0m: No module named 'vnaccent'"
     ]
    }
   ],
   "source": [
    "from vnaccent import standardize_accent\n",
    "\n",
    "text = \"Hoà bình là điều quý giá.\"\n",
    "standardized_text = standardize_accent(text)\n",
    "print(standardized_text)  # Output: \"Hòa bình là điều quý giá.\"\n"
   ]
  }
 ],
 "metadata": {
  "kernelspec": {
   "display_name": "Python 3",
   "language": "python",
   "name": "python3"
  },
  "language_info": {
   "codemirror_mode": {
    "name": "ipython",
    "version": 3
   },
   "file_extension": ".py",
   "mimetype": "text/x-python",
   "name": "python",
   "nbconvert_exporter": "python",
   "pygments_lexer": "ipython3",
   "version": "3.11.8"
  }
 },
 "nbformat": 4,
 "nbformat_minor": 5
}
